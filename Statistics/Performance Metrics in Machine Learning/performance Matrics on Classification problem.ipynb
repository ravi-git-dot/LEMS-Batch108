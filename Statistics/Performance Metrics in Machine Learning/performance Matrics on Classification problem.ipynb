{
 "cells": [
  {
   "metadata": {},
   "cell_type": "markdown",
   "source": "",
   "id": "1c64fb286f1cdea5"
  },
  {
   "metadata": {},
   "cell_type": "markdown",
   "source": "## Permance Metrics on Multiclass Classification Problem",
   "id": "ab0b4a26f72552fd"
  },
  {
   "metadata": {
    "ExecuteTime": {
     "end_time": "2025-07-24T16:20:34.858370Z",
     "start_time": "2025-07-24T16:20:31.670456Z"
    }
   },
   "cell_type": "code",
   "source": "from sklearn import metrics",
   "id": "49fd0c7ab62f5831",
   "outputs": [],
   "execution_count": 1
  },
  {
   "metadata": {
    "ExecuteTime": {
     "end_time": "2025-07-24T16:20:53.884775Z",
     "start_time": "2025-07-24T16:20:53.878505Z"
    }
   },
   "cell_type": "code",
   "source": [
    "C = 'Cat'\n",
    "D = 'Dog'\n",
    "F = 'Fox'"
   ],
   "id": "9345133902494c89",
   "outputs": [],
   "execution_count": 2
  },
  {
   "metadata": {},
   "cell_type": "markdown",
   "source": [
    "#the precision for the cat class is the number of correctly predicted cat out of all predicted Cat\n",
    "\n",
    "#the recall for Cat is the number of correctly predicted Cat Photos out of the number of actual Cat"
   ],
   "id": "d84ab6f4a4b6680d"
  },
  {
   "metadata": {
    "ExecuteTime": {
     "end_time": "2025-07-24T16:29:30.454840Z",
     "start_time": "2025-07-24T16:29:30.425223Z"
    }
   },
   "cell_type": "code",
   "source": [
    "# True values\n",
    "y_true = [C,C,C,C,C,C, F,F,F,F,F,F,F,F,F,F, D,D,D,D,D,D,D,D,D,D]\n",
    "# predicted values\n",
    "y_pred = [C,C,C,C,D,F, C,C,C,C,C,C,D,D,F,F, C,C,C,D,D,D,D,D,D,D]\n",
    "\n",
    "# print the confustion matrics\n",
    "print(metrics.confusion_matrix(y_true, y_pred))\n",
    "\n",
    "# print the precision and recall, among other mertics\n",
    "print(metrics.classification_report(y_true, y_pred, digits=3))"
   ],
   "id": "88c09d494c9b595a",
   "outputs": [
    {
     "name": "stdout",
     "output_type": "stream",
     "text": [
      "[[4 1 1]\n",
      " [3 7 0]\n",
      " [6 2 2]]\n",
      "              precision    recall  f1-score   support\n",
      "\n",
      "         Cat      0.308     0.667     0.421         6\n",
      "         Dog      0.700     0.700     0.700        10\n",
      "         Fox      0.667     0.200     0.308        10\n",
      "\n",
      "    accuracy                          0.500        26\n",
      "   macro avg      0.558     0.522     0.476        26\n",
      "weighted avg      0.597     0.500     0.485        26\n",
      "\n"
     ]
    }
   ],
   "execution_count": 3
  },
  {
   "metadata": {},
   "cell_type": "markdown",
   "source": "#go for f1-score when False Postive(FP) and True Negative(TN) are major role",
   "id": "8911325dd0a8c314"
  },
  {
   "metadata": {},
   "cell_type": "markdown",
   "source": "",
   "id": "c80bd2067631072d"
  }
 ],
 "metadata": {
  "kernelspec": {
   "display_name": "Python 3",
   "language": "python",
   "name": "python3"
  },
  "language_info": {
   "codemirror_mode": {
    "name": "ipython",
    "version": 2
   },
   "file_extension": ".py",
   "mimetype": "text/x-python",
   "name": "python",
   "nbconvert_exporter": "python",
   "pygments_lexer": "ipython2",
   "version": "2.7.6"
  }
 },
 "nbformat": 4,
 "nbformat_minor": 5
}

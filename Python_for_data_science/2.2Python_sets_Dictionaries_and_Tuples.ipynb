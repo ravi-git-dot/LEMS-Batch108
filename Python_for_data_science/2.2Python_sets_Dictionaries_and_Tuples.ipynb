{
 "cells": [
  {
   "cell_type": "markdown",
   "id": "2ee24b6b-e2c5-40af-9ead-98badc9b4714",
   "metadata": {},
   "source": [
    "# Set\n",
    "#It's similar to mathematical sets and is very useful when you need to eliminate duplicates or perform operations like union, intersection, etc."
   ]
  },
  {
   "cell_type": "markdown",
   "id": "c1a7b980-5e1c-4e1f-a279-8b3e171c934e",
   "metadata": {},
   "source": [
    "- Unordered: The elements have no fixed position."
   ]
  },
  {
   "cell_type": "markdown",
   "id": "f5f1a9d3-d26b-4ac1-9f27-2aa7153d7f2a",
   "metadata": {},
   "source": [
    "- Mutable: You can add or remove elements."
   ]
  },
  {
   "cell_type": "markdown",
   "id": "e55b5733-03bf-4126-84a4-f8c96b3bcdb1",
   "metadata": {},
   "source": [
    "- No duplicates: Each element must be unique."
   ]
  },
  {
   "cell_type": "markdown",
   "id": "18c87d67-916a-44c3-a3ee-28f7f7512bbe",
   "metadata": {},
   "source": [
    "- Unindexed: You can't access elements by position (like set[0] is invalid)"
   ]
  },
  {
   "cell_type": "code",
   "execution_count": 1,
   "id": "1854cd92-b1f9-4e30-88b0-339f95fc32d9",
   "metadata": {},
   "outputs": [
    {
     "name": "stdout",
     "output_type": "stream",
     "text": [
      "{1, 2, 3, 4}\n"
     ]
    }
   ],
   "source": [
    "my_set = {1, 2, 3, 4}\n",
    "print(my_set) \n"
   ]
  },
  {
   "cell_type": "code",
   "execution_count": 2,
   "id": "3d037a6e-f973-4ad5-b60d-f39f37b72f72",
   "metadata": {},
   "outputs": [
    {
     "name": "stdout",
     "output_type": "stream",
     "text": [
      "{1, 2, 3}\n"
     ]
    }
   ],
   "source": [
    "my_set = set([1, 2, 2, 3])\n",
    "print(my_set)"
   ]
  },
  {
   "cell_type": "code",
   "execution_count": 12,
   "id": "45bd3e69-fb5b-44e7-a550-14583f8a3a5b",
   "metadata": {},
   "outputs": [
    {
     "name": "stdout",
     "output_type": "stream",
     "text": [
      "set()\n",
      "<class 'set'>\n"
     ]
    }
   ],
   "source": [
    "set_var = set()\n",
    "print(set_var)\n",
    "print(type(set_var))"
   ]
  },
  {
   "cell_type": "code",
   "execution_count": 14,
   "id": "d20786ae-626c-4e72-a568-5f300ce0342d",
   "metadata": {},
   "outputs": [],
   "source": [
    "set_var= {1,2,3,3,4,5}"
   ]
  },
  {
   "cell_type": "code",
   "execution_count": 15,
   "id": "b255a07b-3bac-41e4-94a5-1570ceed9e3d",
   "metadata": {},
   "outputs": [
    {
     "data": {
      "text/plain": [
       "{1, 2, 3, 4, 5}"
      ]
     },
     "execution_count": 15,
     "metadata": {},
     "output_type": "execute_result"
    }
   ],
   "source": [
    "set_var"
   ]
  },
  {
   "cell_type": "code",
   "execution_count": 16,
   "id": "b4bab57f-92cd-47dd-89a7-b073fb30f21d",
   "metadata": {},
   "outputs": [
    {
     "name": "stdout",
     "output_type": "stream",
     "text": [
      "{'Avengers', 'BatMan', 'IronMan', 'SuperMan'}\n",
      "<class 'set'>\n"
     ]
    }
   ],
   "source": [
    "set_var = {\"Avengers\", \"IronMan\", \"SuperMan\", \"BatMan\"}\n",
    "print(set_var)\n",
    "print(type(set_var))"
   ]
  },
  {
   "cell_type": "code",
   "execution_count": 17,
   "id": "fb3d1caa-c74b-4600-8e23-fdd50a096e59",
   "metadata": {},
   "outputs": [],
   "source": [
    "set_var.add(\"Hulk\")"
   ]
  },
  {
   "cell_type": "code",
   "execution_count": 18,
   "id": "2ae03644-ea28-47f9-94d8-ce255f04d543",
   "metadata": {},
   "outputs": [
    {
     "data": {
      "text/plain": [
       "{'Avengers', 'BatMan', 'Hulk', 'IronMan', 'SuperMan'}"
      ]
     },
     "execution_count": 18,
     "metadata": {},
     "output_type": "execute_result"
    }
   ],
   "source": [
    "set_var"
   ]
  },
  {
   "cell_type": "markdown",
   "id": "74f11fc5-cd2f-44f5-85af-24119ef0db32",
   "metadata": {},
   "source": [
    "# Common add an element"
   ]
  },
  {
   "cell_type": "code",
   "execution_count": 3,
   "id": "ff9e4717-5ca1-480a-b477-b20f35379ab9",
   "metadata": {},
   "outputs": [
    {
     "name": "stdout",
     "output_type": "stream",
     "text": [
      "{1, 2, 3, 5}\n"
     ]
    }
   ],
   "source": [
    "my_set.add(5)\n",
    "print(my_set) "
   ]
  },
  {
   "cell_type": "code",
   "execution_count": 4,
   "id": "ddf8b583-8dd4-4a89-bab7-2065107373ca",
   "metadata": {},
   "outputs": [],
   "source": [
    "# Raises an error if 3 is not in the set\n",
    "my_set.remove(3) \n",
    "# Does nothing if 10 is not in the set\n",
    "my_set.discard(10)  "
   ]
  },
  {
   "cell_type": "code",
   "execution_count": 5,
   "id": "59e90ac8-06f4-42b7-8204-b482dd6798ca",
   "metadata": {},
   "outputs": [
    {
     "name": "stdout",
     "output_type": "stream",
     "text": [
      "True\n"
     ]
    }
   ],
   "source": [
    "print(2 in my_set)"
   ]
  },
  {
   "cell_type": "code",
   "execution_count": 19,
   "id": "fedc48cc-9a67-4f70-9218-fcd72eb3677e",
   "metadata": {},
   "outputs": [],
   "source": [
    "set1 = {\"Avengers\", \"Hitman\", \"Ironman\"}\n",
    "set2 = {\"Avengers\", \"Hitman\", \"Ironman\", \"Hulk2\"}"
   ]
  },
  {
   "cell_type": "code",
   "execution_count": 20,
   "id": "5edc2022-2ecf-4a9a-ad65-faaaf6b27d2b",
   "metadata": {},
   "outputs": [
    {
     "data": {
      "text/plain": [
       "{'Hulk2'}"
      ]
     },
     "execution_count": 20,
     "metadata": {},
     "output_type": "execute_result"
    }
   ],
   "source": [
    "# difference\n",
    "set2.difference(set1)"
   ]
  },
  {
   "cell_type": "code",
   "execution_count": 21,
   "id": "30496b0d-c352-43ea-9676-a25e5cd94dd1",
   "metadata": {},
   "outputs": [],
   "source": [
    "# difference update in set\n",
    "set2.difference_update(set1)"
   ]
  },
  {
   "cell_type": "code",
   "execution_count": 22,
   "id": "c652b21f-652c-485c-91c5-f473a800b467",
   "metadata": {},
   "outputs": [
    {
     "name": "stdout",
     "output_type": "stream",
     "text": [
      "{'Hulk2'}\n"
     ]
    }
   ],
   "source": [
    "print(set2)"
   ]
  },
  {
   "cell_type": "markdown",
   "id": "97ce3dbd-8ae2-4a9f-8076-4aefbb019d19",
   "metadata": {},
   "source": [
    "# Set Methods for Mathematical Operations"
   ]
  },
  {
   "cell_type": "code",
   "execution_count": 6,
   "id": "26106168-d378-43f3-82e0-1bb94ef9e415",
   "metadata": {},
   "outputs": [],
   "source": [
    "a = {1, 2, 3}\n",
    "b = {3, 4, 5}"
   ]
  },
  {
   "cell_type": "code",
   "execution_count": 7,
   "id": "4fc7cab1-2849-46a5-87d4-6bcc3ae7c297",
   "metadata": {},
   "outputs": [
    {
     "name": "stdout",
     "output_type": "stream",
     "text": [
      "{1, 2, 3, 4, 5}\n",
      "{1, 2, 3, 4, 5}\n"
     ]
    }
   ],
   "source": [
    "# union\n",
    "print(a | b)         \n",
    "print(a.union(b))    "
   ]
  },
  {
   "cell_type": "code",
   "execution_count": 8,
   "id": "b6d5749d-3bc2-4653-9ad6-e88626acd834",
   "metadata": {},
   "outputs": [
    {
     "name": "stdout",
     "output_type": "stream",
     "text": [
      "{3}\n",
      "{3}\n"
     ]
    }
   ],
   "source": [
    "# intersection\n",
    "print(a & b)        \n",
    "print(a.intersection(b))\n"
   ]
  },
  {
   "cell_type": "code",
   "execution_count": 9,
   "id": "e6a96085-68f4-45e8-8d2b-272c95d582fc",
   "metadata": {},
   "outputs": [
    {
     "name": "stdout",
     "output_type": "stream",
     "text": [
      "{1, 2}\n"
     ]
    }
   ],
   "source": [
    "print(a - b)"
   ]
  },
  {
   "cell_type": "code",
   "execution_count": 10,
   "id": "64d5917b-b837-426a-9484-75566ab0d671",
   "metadata": {},
   "outputs": [
    {
     "name": "stdout",
     "output_type": "stream",
     "text": [
      "{1, 2, 4, 5}\n"
     ]
    }
   ],
   "source": [
    "print(a ^ b) "
   ]
  },
  {
   "cell_type": "code",
   "execution_count": 11,
   "id": "06bb4fde-9d19-4bcb-a282-aef1fd4f7020",
   "metadata": {},
   "outputs": [
    {
     "name": "stdout",
     "output_type": "stream",
     "text": [
      "1\n",
      "2\n",
      "5\n"
     ]
    }
   ],
   "source": [
    "for item in my_set:\n",
    "    print(item)"
   ]
  },
  {
   "cell_type": "code",
   "execution_count": 24,
   "id": "8ea8576f-665f-4261-a85c-4f6625a3b728",
   "metadata": {},
   "outputs": [],
   "source": [
    "set1 = {\"Avengers\", \"Hitman\", \"Ironman\"}\n",
    "set2 = {\"Avengers\", \"Hitman\", \"Ironman\", \"Hulk2\"}"
   ]
  },
  {
   "cell_type": "code",
   "execution_count": 25,
   "id": "4757119a-573d-4f39-8208-9bd2baceb9e7",
   "metadata": {},
   "outputs": [
    {
     "data": {
      "text/plain": [
       "{'Avengers', 'Hitman', 'Ironman'}"
      ]
     },
     "execution_count": 25,
     "metadata": {},
     "output_type": "execute_result"
    }
   ],
   "source": [
    "set2.intersection(set1)"
   ]
  },
  {
   "cell_type": "code",
   "execution_count": 26,
   "id": "c4871ed1-e438-41fa-bf1a-8228931f7f92",
   "metadata": {},
   "outputs": [
    {
     "name": "stdout",
     "output_type": "stream",
     "text": [
      "{'Ironman', 'Avengers', 'Hulk2', 'Hitman'}\n"
     ]
    }
   ],
   "source": [
    "print(set2)"
   ]
  },
  {
   "cell_type": "markdown",
   "id": "7e568b7c-191c-4ca0-a879-8a56e06c2ed0",
   "metadata": {},
   "source": [
    "# Dictionaries"
   ]
  },
  {
   "cell_type": "markdown",
   "id": "9df98084-a5cf-46cc-ba36-18333952c67d",
   "metadata": {},
   "source": [
    "#Key-value pairs (like a real dictionary: word → meaning).\n",
    "\n",
    "#Keys must be unique and immutable (e.g., strings, numbers, tuples).\n",
    "\n",
    "#Values can be of any data type (strings, lists, other dictionaries, etc.).\n",
    "\n",
    "#Mutable: You can add, update, or remove items.\n",
    "\n",
    "#Unordered in older versions of Python, but maintains insertion order"
   ]
  },
  {
   "cell_type": "code",
   "execution_count": 27,
   "id": "afb525da-63e1-4c49-b9c9-1fc1b986817a",
   "metadata": {},
   "outputs": [],
   "source": [
    "person = {\n",
    "    \"name\": \"Alice\",\n",
    "    \"age\": 25,\n",
    "    \"city\": \"New York\"\n",
    "}"
   ]
  },
  {
   "cell_type": "code",
   "execution_count": 28,
   "id": "820a593f-5055-41c9-8e36-dd8a4ed7e979",
   "metadata": {},
   "outputs": [
    {
     "name": "stdout",
     "output_type": "stream",
     "text": [
      "Alice\n"
     ]
    }
   ],
   "source": [
    "print(person[\"name\"])"
   ]
  },
  {
   "cell_type": "code",
   "execution_count": 29,
   "id": "87a141a4-3a36-457d-a0b1-d3787976b70a",
   "metadata": {},
   "outputs": [
    {
     "name": "stdout",
     "output_type": "stream",
     "text": [
      "Not found\n"
     ]
    }
   ],
   "source": [
    "print(person.get(\"country\", \"Not found\")) "
   ]
  },
  {
   "cell_type": "markdown",
   "id": "d7db7f63-da37-4907-9d57-d2625bd4a08f",
   "metadata": {},
   "source": [
    "# Adding or updating "
   ]
  },
  {
   "cell_type": "code",
   "execution_count": 30,
   "id": "4c772ddb-75ed-479f-8f60-06b3000a5cea",
   "metadata": {},
   "outputs": [],
   "source": [
    "person[\"email\"] = \"alice@example.com\" \n",
    "person[\"age\"] = 26 "
   ]
  },
  {
   "cell_type": "code",
   "execution_count": 31,
   "id": "3eee472d-d02f-471d-9b9c-8ef11585b97f",
   "metadata": {},
   "outputs": [
    {
     "name": "stdout",
     "output_type": "stream",
     "text": [
      "{'name': 'Alice', 'age': 26, 'city': 'New York', 'email': 'alice@example.com'}\n"
     ]
    }
   ],
   "source": [
    "print(person)"
   ]
  },
  {
   "cell_type": "code",
   "execution_count": 32,
   "id": "b2880cc0-33ed-41fb-b0a5-e2b5f2ebab68",
   "metadata": {},
   "outputs": [
    {
     "data": {
      "text/plain": [
       "'New York'"
      ]
     },
     "execution_count": 32,
     "metadata": {},
     "output_type": "execute_result"
    }
   ],
   "source": [
    "# remove \n",
    "person.pop(\"city\")"
   ]
  },
  {
   "cell_type": "code",
   "execution_count": 34,
   "id": "cfb93581-f0a2-4272-a26e-171940089d42",
   "metadata": {},
   "outputs": [
    {
     "ename": "KeyError",
     "evalue": "'age'",
     "output_type": "error",
     "traceback": [
      "\u001b[1;31m---------------------------------------------------------------------------\u001b[0m",
      "\u001b[1;31mKeyError\u001b[0m                                  Traceback (most recent call last)",
      "Cell \u001b[1;32mIn[34], line 1\u001b[0m\n\u001b[1;32m----> 1\u001b[0m \u001b[38;5;28;01mdel\u001b[39;00m \u001b[43mperson\u001b[49m\u001b[43m[\u001b[49m\u001b[38;5;124;43m\"\u001b[39;49m\u001b[38;5;124;43mage\u001b[39;49m\u001b[38;5;124;43m\"\u001b[39;49m\u001b[43m]\u001b[49m\n",
      "\u001b[1;31mKeyError\u001b[0m: 'age'"
     ]
    }
   ],
   "source": [
    "del person[\"age\"]"
   ]
  },
  {
   "cell_type": "code",
   "execution_count": 35,
   "id": "97e8c8a8-6e18-490e-a0d5-2faadfe7a360",
   "metadata": {},
   "outputs": [],
   "source": [
    "person.clear() "
   ]
  },
  {
   "cell_type": "code",
   "execution_count": 36,
   "id": "005b8431-4a80-4407-a622-19539ec4291a",
   "metadata": {},
   "outputs": [],
   "source": [
    "for key in person:\n",
    "    print(key, person[key])\n"
   ]
  },
  {
   "cell_type": "code",
   "execution_count": 37,
   "id": "f8f9b69a-f30e-4f27-b8f8-d073a1881334",
   "metadata": {},
   "outputs": [],
   "source": [
    "person = dict(name=\"Alice\", age=25, city=\"New York\")"
   ]
  },
  {
   "cell_type": "code",
   "execution_count": 38,
   "id": "7568f0e5-d66b-4c96-9c2f-8fd7baf36c72",
   "metadata": {},
   "outputs": [
    {
     "name": "stdout",
     "output_type": "stream",
     "text": [
      "name Alice\n",
      "age 25\n",
      "city New York\n"
     ]
    }
   ],
   "source": [
    "for key in person:\n",
    "    print(key, person[key])"
   ]
  },
  {
   "cell_type": "code",
   "execution_count": 41,
   "id": "73ef1ac3-ce21-4c0c-adb4-974628ef37f1",
   "metadata": {},
   "outputs": [
    {
     "name": "stdout",
     "output_type": "stream",
     "text": [
      "name -> Alice\n",
      "age -> 25\n",
      "city -> New York\n"
     ]
    }
   ],
   "source": [
    "for key, value in person.items():\n",
    "    print(key, \"->\", value)"
   ]
  },
  {
   "cell_type": "code",
   "execution_count": 42,
   "id": "17599256-ec71-41e4-9487-221f0fb53c23",
   "metadata": {},
   "outputs": [
    {
     "name": "stdout",
     "output_type": "stream",
     "text": [
      "dict_keys(['name', 'age', 'city'])\n",
      "dict_values(['Alice', 25, 'New York'])\n",
      "dict_items([('name', 'Alice'), ('age', 25), ('city', 'New York')])\n"
     ]
    }
   ],
   "source": [
    "print(person.keys())      # dict_keys(['name', 'email'])\n",
    "print(person.values())    # dict_values(['Alice', 'alice@example.com'])\n",
    "print(person.items())     # dict_items([('name', 'Alice'), ('email', 'alice@example.com')])"
   ]
  },
  {
   "cell_type": "code",
   "execution_count": 43,
   "id": "b7f420f5-8095-4e05-8eb8-fcda46807160",
   "metadata": {},
   "outputs": [
    {
     "name": "stdout",
     "output_type": "stream",
     "text": [
      "{'apple': 3, 'banana': 2, 'orange': 1}\n"
     ]
    }
   ],
   "source": [
    "text = \"apple banana apple orange banana apple\"\n",
    "words = text.split()\n",
    "\n",
    "word_count = {}\n",
    "for word in words:\n",
    "    word_count[word] = word_count.get(word, 0) + 1\n",
    "\n",
    "print(word_count)\n"
   ]
  },
  {
   "cell_type": "code",
   "execution_count": 1,
   "id": "2148641d-d50f-442a-8a43-3ddd0e304924",
   "metadata": {},
   "outputs": [],
   "source": [
    "dic = {}"
   ]
  },
  {
   "cell_type": "code",
   "execution_count": 2,
   "id": "19c4c4b5-f166-4686-a47d-3c1dbb0d9821",
   "metadata": {},
   "outputs": [
    {
     "data": {
      "text/plain": [
       "dict"
      ]
     },
     "execution_count": 2,
     "metadata": {},
     "output_type": "execute_result"
    }
   ],
   "source": [
    "type(dic)"
   ]
  },
  {
   "cell_type": "code",
   "execution_count": null,
   "id": "04191efd-5b87-47b7-ab2f-fd3982d6185f",
   "metadata": {},
   "outputs": [],
   "source": [
    "dic = {1,2,3,4,5,6,7}"
   ]
  },
  {
   "cell_type": "code",
   "execution_count": 3,
   "id": "c97ec68d-e9b0-4c29-9988-202534fa43de",
   "metadata": {},
   "outputs": [
    {
     "data": {
      "text/plain": [
       "dict"
      ]
     },
     "execution_count": 3,
     "metadata": {},
     "output_type": "execute_result"
    }
   ],
   "source": [
    "type(dic)"
   ]
  },
  {
   "cell_type": "code",
   "execution_count": 4,
   "id": "e0e35aa7-8b4b-4619-91dc-b0807525cadb",
   "metadata": {},
   "outputs": [],
   "source": [
    "# let create a dictorinary\n",
    "my_dic = {\"Car\": \"audi\", \"Car2\": \"BMW\", \"Car3\": \"Rollas Royals\"}"
   ]
  },
  {
   "cell_type": "code",
   "execution_count": 5,
   "id": "453583af-51a6-4bf0-94e7-e4ab45e3330e",
   "metadata": {},
   "outputs": [
    {
     "data": {
      "text/plain": [
       "dict"
      ]
     },
     "execution_count": 5,
     "metadata": {},
     "output_type": "execute_result"
    }
   ],
   "source": [
    "type(my_dic)"
   ]
  },
  {
   "cell_type": "code",
   "execution_count": 7,
   "id": "31d1725f-c1bb-4ba0-8333-7782a7acea31",
   "metadata": {},
   "outputs": [
    {
     "data": {
      "text/plain": [
       "'audi'"
      ]
     },
     "execution_count": 7,
     "metadata": {},
     "output_type": "execute_result"
    }
   ],
   "source": [
    "my_dic[\"Car\"]"
   ]
  },
  {
   "cell_type": "code",
   "execution_count": 8,
   "id": "af45f9d6-43fd-4a19-a2c1-1f03b6d108a9",
   "metadata": {},
   "outputs": [
    {
     "name": "stdout",
     "output_type": "stream",
     "text": [
      "Car\n",
      "Car2\n",
      "Car3\n"
     ]
    }
   ],
   "source": [
    "for x in my_dic:\n",
    "    print(x)"
   ]
  },
  {
   "cell_type": "code",
   "execution_count": 9,
   "id": "bad97474-b266-40f8-bdb3-d45ce0850861",
   "metadata": {},
   "outputs": [
    {
     "name": "stdout",
     "output_type": "stream",
     "text": [
      "audi\n",
      "BMW\n",
      "Rollas Royals\n"
     ]
    }
   ],
   "source": [
    "for x in my_dic.values():\n",
    "    print(x)"
   ]
  },
  {
   "cell_type": "code",
   "execution_count": 10,
   "id": "a8ce5538-0327-4881-8ee3-833487685a03",
   "metadata": {},
   "outputs": [
    {
     "name": "stdout",
     "output_type": "stream",
     "text": [
      "('Car', 'audi')\n",
      "('Car2', 'BMW')\n",
      "('Car3', 'Rollas Royals')\n"
     ]
    }
   ],
   "source": [
    "for x in my_dic.items():\n",
    "    print(x)"
   ]
  },
  {
   "cell_type": "code",
   "execution_count": 11,
   "id": "47dd13f1-ef32-48c3-9eb7-2b9ca2f02fc5",
   "metadata": {},
   "outputs": [],
   "source": [
    "my_dic[\"Car4\"] = \"BMW 6 series\""
   ]
  },
  {
   "cell_type": "code",
   "execution_count": 12,
   "id": "ec6c9ef8-9e82-4964-8a31-a336400a2d2c",
   "metadata": {},
   "outputs": [
    {
     "name": "stdout",
     "output_type": "stream",
     "text": [
      "{'Car': 'audi', 'Car2': 'BMW', 'Car3': 'Rollas Royals', 'Car4': 'BMW 6 series'}\n"
     ]
    }
   ],
   "source": [
    "print(my_dic)"
   ]
  },
  {
   "cell_type": "code",
   "execution_count": 13,
   "id": "7a134bda-41f0-41f4-a22f-1be01b7b3d5d",
   "metadata": {},
   "outputs": [],
   "source": [
    "my_dic[\"Car\"] =\"Maruthi suski\" "
   ]
  },
  {
   "cell_type": "code",
   "execution_count": 14,
   "id": "965c9ba8-070b-476b-b305-839b4c632cb6",
   "metadata": {},
   "outputs": [
    {
     "name": "stdout",
     "output_type": "stream",
     "text": [
      "{'Car': 'Maruthi suski', 'Car2': 'BMW', 'Car3': 'Rollas Royals', 'Car4': 'BMW 6 series'}\n"
     ]
    }
   ],
   "source": [
    "print(my_dic)"
   ]
  },
  {
   "cell_type": "code",
   "execution_count": 15,
   "id": "28879d1e-3817-4738-9217-8fc599f1419c",
   "metadata": {},
   "outputs": [],
   "source": [
    "# Nested Dictionary\n",
    "\n",
    "Car1_model = {\"Mercedes\":1960}\n",
    "Car2_model = {\"Audi\": 1970}\n",
    "Car3_model = {\"Ambassador\": 1980}\n",
    "\n",
    "car_type = {\"Car1\": Car1_model, \"Car2\": Car2_model, \"Car3\": Car3_model}"
   ]
  },
  {
   "cell_type": "code",
   "execution_count": 16,
   "id": "2edb174d-cf2d-4d82-bd96-614747f5b8dc",
   "metadata": {},
   "outputs": [
    {
     "name": "stdout",
     "output_type": "stream",
     "text": [
      "{'Car1': {'Mercedes': 1960}, 'Car2': {'Audi': 1970}, 'Car3': {'Ambassador': 1980}}\n"
     ]
    }
   ],
   "source": [
    "print(car_type)"
   ]
  },
  {
   "cell_type": "code",
   "execution_count": 17,
   "id": "da759dce-b826-4c25-a2c4-a8801e79b488",
   "metadata": {},
   "outputs": [
    {
     "name": "stdout",
     "output_type": "stream",
     "text": [
      "{'Mercedes': 1960}\n"
     ]
    }
   ],
   "source": [
    "print(car_type[\"Car1\"])"
   ]
  },
  {
   "cell_type": "code",
   "execution_count": 18,
   "id": "55fd799c-69c5-44ae-88f4-7b6cfe7c8b3a",
   "metadata": {},
   "outputs": [
    {
     "name": "stdout",
     "output_type": "stream",
     "text": [
      "1960\n"
     ]
    }
   ],
   "source": [
    "print(car_type[\"Car1\"][\"Mercedes\"])"
   ]
  },
  {
   "cell_type": "markdown",
   "id": "d9153791-d986-4cb3-a23c-c15380e825b6",
   "metadata": {},
   "source": [
    "# Tuples"
   ]
  },
  {
   "cell_type": "code",
   "execution_count": 24,
   "id": "e700fe25-cf7c-4a65-a20f-3252011d0560",
   "metadata": {},
   "outputs": [],
   "source": [
    "# A tuple is a collection of ordered and immutable (unchangeable) elements.\n",
    "\n",
    "# It can hold multiple data types.\n",
    "\n",
    "# Tuples are defined using parentheses ()."
   ]
  },
  {
   "cell_type": "code",
   "execution_count": 25,
   "id": "523b72ab-1ddc-4fe1-9f1b-5ed2402fde97",
   "metadata": {},
   "outputs": [],
   "source": [
    "# create an empty tuples\n",
    "\n",
    "my_tuple = tuple()"
   ]
  },
  {
   "cell_type": "code",
   "execution_count": 26,
   "id": "c4408df0-fcb8-4ec9-bfcb-44327ce0cace",
   "metadata": {},
   "outputs": [
    {
     "data": {
      "text/plain": [
       "tuple"
      ]
     },
     "execution_count": 26,
     "metadata": {},
     "output_type": "execute_result"
    }
   ],
   "source": [
    "type(my_tuple)"
   ]
  },
  {
   "cell_type": "code",
   "execution_count": 27,
   "id": "29860585-05a4-49ac-913a-9919c7cfd815",
   "metadata": {},
   "outputs": [],
   "source": [
    "my_tuple = ()"
   ]
  },
  {
   "cell_type": "code",
   "execution_count": 28,
   "id": "6d6b0b4e-e417-4c07-aa9f-c1a7d7fa08c9",
   "metadata": {},
   "outputs": [],
   "source": [
    "my_tuple = (\"Krish\", \"Ankur\", \"John\")"
   ]
  },
  {
   "cell_type": "code",
   "execution_count": 29,
   "id": "c83cf734-fcae-47bf-a89c-7884821ef051",
   "metadata": {},
   "outputs": [
    {
     "data": {
      "text/plain": [
       "'Krish'"
      ]
     },
     "execution_count": 29,
     "metadata": {},
     "output_type": "execute_result"
    }
   ],
   "source": [
    "my_tuple[0]"
   ]
  },
  {
   "cell_type": "code",
   "execution_count": 30,
   "id": "e2945ae7-e3ae-4f45-8bd6-983a53341999",
   "metadata": {},
   "outputs": [
    {
     "name": "stdout",
     "output_type": "stream",
     "text": [
      "<class 'tuple'>\n",
      "('Krish', 'Ankur', 'John')\n"
     ]
    }
   ],
   "source": [
    "print(type(my_tuple))\n",
    "print(my_tuple)"
   ]
  },
  {
   "cell_type": "code",
   "execution_count": 31,
   "id": "d31c34a3-94f8-46cf-8997-48bd66f8eb8d",
   "metadata": {},
   "outputs": [
    {
     "data": {
      "text/plain": [
       "tuple"
      ]
     },
     "execution_count": 31,
     "metadata": {},
     "output_type": "execute_result"
    }
   ],
   "source": [
    "type(my_tuple)"
   ]
  },
  {
   "cell_type": "code",
   "execution_count": 33,
   "id": "ecd34e57-5e5c-4453-968a-07edafd4b5b8",
   "metadata": {},
   "outputs": [
    {
     "data": {
      "text/plain": [
       "1"
      ]
     },
     "execution_count": 33,
     "metadata": {},
     "output_type": "execute_result"
    }
   ],
   "source": [
    "# inbulit Function\n",
    "my_tuple.count(\"Krish\")"
   ]
  },
  {
   "cell_type": "code",
   "execution_count": 34,
   "id": "b60f5473-1247-4c42-9a44-03ba50ef1a6a",
   "metadata": {},
   "outputs": [
    {
     "ename": "SyntaxError",
     "evalue": "unterminated string literal (detected at line 1) (948935487.py, line 1)",
     "output_type": "error",
     "traceback": [
      "\u001b[1;36m  Cell \u001b[1;32mIn[34], line 1\u001b[1;36m\u001b[0m\n\u001b[1;33m    my_tuple[0]=\"Ram'\u001b[0m\n\u001b[1;37m                ^\u001b[0m\n\u001b[1;31mSyntaxError\u001b[0m\u001b[1;31m:\u001b[0m unterminated string literal (detected at line 1)\n"
     ]
    }
   ],
   "source": [
    "my_tuple[0]=\"Ram' # index not possible"
   ]
  },
  {
   "cell_type": "code",
   "execution_count": 36,
   "id": "91ab292f-b343-4661-a310-edd9a2337360",
   "metadata": {},
   "outputs": [
    {
     "data": {
      "text/plain": [
       "1"
      ]
     },
     "execution_count": 36,
     "metadata": {},
     "output_type": "execute_result"
    }
   ],
   "source": [
    "my_tuple.count(\"Ankur\")"
   ]
  },
  {
   "cell_type": "code",
   "execution_count": null,
   "id": "d45a3bd6-4362-4ae4-b05b-61a5207b037f",
   "metadata": {},
   "outputs": [],
   "source": []
  }
 ],
 "metadata": {
  "kernelspec": {
   "display_name": "Python 3 (ipykernel)",
   "language": "python",
   "name": "python3"
  },
  "language_info": {
   "codemirror_mode": {
    "name": "ipython",
    "version": 3
   },
   "file_extension": ".py",
   "mimetype": "text/x-python",
   "name": "python",
   "nbconvert_exporter": "python",
   "pygments_lexer": "ipython3",
   "version": "3.12.8"
  }
 },
 "nbformat": 4,
 "nbformat_minor": 5
}

{
 "cells": [
  {
   "cell_type": "markdown",
   "id": "3946589b-6094-4fea-aad1-cae3b5cdbe90",
   "metadata": {},
   "source": [
    "# Bascis of Python"
   ]
  },
  {
   "cell_type": "markdown",
   "id": "d15919f5-e691-486e-9753-1b20beaa87a9",
   "metadata": {},
   "source": [
    " # Varaious Datatype in python\n",
    "\n",
    " - DataTypes"
   ]
  },
  {
   "cell_type": "markdown",
   "id": "845d1d22-b657-4ae3-acda-be71b7dd2550",
   "metadata": {},
   "source": [
    "#Numbers"
   ]
  },
  {
   "cell_type": "code",
   "execution_count": 1,
   "id": "5b74147b-1929-4e86-b5bf-f45cf2eab44e",
   "metadata": {},
   "outputs": [],
   "source": [
    "# Esc + A =  create shell short cut"
   ]
  },
  {
   "cell_type": "code",
   "execution_count": 2,
   "id": "1b67cabb-7616-459b-9a34-858e89b417a1",
   "metadata": {},
   "outputs": [
    {
     "data": {
      "text/plain": [
       "2"
      ]
     },
     "execution_count": 2,
     "metadata": {},
     "output_type": "execute_result"
    }
   ],
   "source": [
    "1+1"
   ]
  },
  {
   "cell_type": "code",
   "execution_count": 3,
   "id": "24562ec7-93c3-4b01-b333-483f83c3db82",
   "metadata": {},
   "outputs": [
    {
     "data": {
      "text/plain": [
       "20"
      ]
     },
     "execution_count": 3,
     "metadata": {},
     "output_type": "execute_result"
    }
   ],
   "source": [
    "4*5"
   ]
  },
  {
   "cell_type": "code",
   "execution_count": 4,
   "id": "42be6804-66f4-4f33-939e-00762818b50b",
   "metadata": {},
   "outputs": [
    {
     "data": {
      "text/plain": [
       "20"
      ]
     },
     "execution_count": 4,
     "metadata": {},
     "output_type": "execute_result"
    }
   ],
   "source": [
    "2*10"
   ]
  },
  {
   "cell_type": "code",
   "execution_count": 5,
   "id": "56a4ec92-2d02-4f02-b033-90cb0f1cdaf6",
   "metadata": {},
   "outputs": [
    {
     "data": {
      "text/plain": [
       "5.0"
      ]
     },
     "execution_count": 5,
     "metadata": {},
     "output_type": "execute_result"
    }
   ],
   "source": [
    "10/2"
   ]
  },
  {
   "cell_type": "code",
   "execution_count": 6,
   "id": "f77744bf-beb9-4cd4-a823-c1f4946cd920",
   "metadata": {},
   "outputs": [
    {
     "data": {
      "text/plain": [
       "0"
      ]
     },
     "execution_count": 6,
     "metadata": {},
     "output_type": "execute_result"
    }
   ],
   "source": [
    "10%2"
   ]
  },
  {
   "cell_type": "code",
   "execution_count": 7,
   "id": "d91e035d-16ec-4b1a-916a-94aa69210460",
   "metadata": {},
   "outputs": [
    {
     "data": {
      "text/plain": [
       "100"
      ]
     },
     "execution_count": 7,
     "metadata": {},
     "output_type": "execute_result"
    }
   ],
   "source": [
    "10 ** 2"
   ]
  },
  {
   "cell_type": "code",
   "execution_count": 8,
   "id": "74798824-402b-4b0b-897b-581ff95ccfcf",
   "metadata": {},
   "outputs": [],
   "source": [
    "# check the datatype"
   ]
  },
  {
   "cell_type": "code",
   "execution_count": 9,
   "id": "5e4221ab-8a61-4d32-b2b0-3927f078015b",
   "metadata": {},
   "outputs": [
    {
     "data": {
      "text/plain": [
       "'strstrstrstrstrstrstrstrstrstr'"
      ]
     },
     "execution_count": 9,
     "metadata": {},
     "output_type": "execute_result"
    }
   ],
   "source": [
    "10 * \"str\""
   ]
  },
  {
   "cell_type": "code",
   "execution_count": 14,
   "id": "10ef336f-c165-4a19-98a1-1ca040e50f4e",
   "metadata": {},
   "outputs": [
    {
     "name": "stdout",
     "output_type": "stream",
     "text": [
      "str\n",
      "str\n",
      "str\n",
      "str\n",
      "str\n",
      "str\n",
      "str\n",
      "str\n",
      "str\n",
      "str\n",
      "\n"
     ]
    }
   ],
   "source": [
    "print(10 * \"str\\n\")"
   ]
  },
  {
   "cell_type": "code",
   "execution_count": 15,
   "id": "9ff7c546-5281-4c9c-a616-300dc872bae5",
   "metadata": {},
   "outputs": [
    {
     "data": {
      "text/plain": [
       "int"
      ]
     },
     "execution_count": 15,
     "metadata": {},
     "output_type": "execute_result"
    }
   ],
   "source": [
    "type(1)"
   ]
  },
  {
   "cell_type": "code",
   "execution_count": 16,
   "id": "cd71f2e2-4faa-46d7-96f5-c4e2b1601d1f",
   "metadata": {},
   "outputs": [
    {
     "data": {
      "text/plain": [
       "str"
      ]
     },
     "execution_count": 16,
     "metadata": {},
     "output_type": "execute_result"
    }
   ],
   "source": [
    "type(\"Hello\")"
   ]
  },
  {
   "cell_type": "code",
   "execution_count": 17,
   "id": "936a625e-e14d-4c2a-9c25-e3c45c586536",
   "metadata": {},
   "outputs": [
    {
     "data": {
      "text/plain": [
       "float"
      ]
     },
     "execution_count": 17,
     "metadata": {},
     "output_type": "execute_result"
    }
   ],
   "source": [
    "type(2.34)"
   ]
  },
  {
   "cell_type": "code",
   "execution_count": 18,
   "id": "72540b73-ea63-4ff2-95f3-330c49724172",
   "metadata": {},
   "outputs": [
    {
     "data": {
      "text/plain": [
       "bool"
      ]
     },
     "execution_count": 18,
     "metadata": {},
     "output_type": "execute_result"
    }
   ],
   "source": [
    "type(True)"
   ]
  },
  {
   "cell_type": "markdown",
   "id": "0caa513c-78b3-4539-bbb5-6772b176b18e",
   "metadata": {},
   "source": [
    "# Strings"
   ]
  },
  {
   "cell_type": "code",
   "execution_count": 19,
   "id": "be63f722-abb5-4790-8565-0375b5b14879",
   "metadata": {},
   "outputs": [
    {
     "data": {
      "text/plain": [
       "'Hello'"
      ]
     },
     "execution_count": 19,
     "metadata": {},
     "output_type": "execute_result"
    }
   ],
   "source": [
    "\"Hello\""
   ]
  },
  {
   "cell_type": "code",
   "execution_count": 20,
   "id": "30751b8f-b33b-4447-9854-8ec5a502607b",
   "metadata": {},
   "outputs": [
    {
     "data": {
      "text/plain": [
       "'RaviRaj'"
      ]
     },
     "execution_count": 20,
     "metadata": {},
     "output_type": "execute_result"
    }
   ],
   "source": [
    "\"RaviRaj\""
   ]
  },
  {
   "cell_type": "code",
   "execution_count": 21,
   "id": "e1ddfa34-1954-4bc3-b0da-e66179d763d0",
   "metadata": {},
   "outputs": [
    {
     "data": {
      "text/plain": [
       "str"
      ]
     },
     "execution_count": 21,
     "metadata": {},
     "output_type": "execute_result"
    }
   ],
   "source": [
    "type(\"RaviRaj\")"
   ]
  },
  {
   "cell_type": "markdown",
   "id": "a3729e3e-f330-49d4-8fc0-855c1ad76074",
   "metadata": {},
   "source": [
    "# varaible Assisment"
   ]
  },
  {
   "cell_type": "code",
   "execution_count": 22,
   "id": "b9f97db8-749d-476d-9013-1d3aaa23a119",
   "metadata": {},
   "outputs": [],
   "source": [
    "# syntax \n",
    "# var_name = value\n",
    "\n",
    "a = 10"
   ]
  },
  {
   "cell_type": "code",
   "execution_count": 23,
   "id": "be2840ee-1dcb-431d-8f54-f96d0ce6d600",
   "metadata": {},
   "outputs": [
    {
     "data": {
      "text/plain": [
       "int"
      ]
     },
     "execution_count": 23,
     "metadata": {},
     "output_type": "execute_result"
    }
   ],
   "source": [
    "type(a)"
   ]
  },
  {
   "cell_type": "code",
   "execution_count": 24,
   "id": "3158a84e-159d-4e1f-b8bd-0678b8df8376",
   "metadata": {},
   "outputs": [],
   "source": [
    "a = \"Ravi\""
   ]
  },
  {
   "cell_type": "code",
   "execution_count": 25,
   "id": "eedecdbe-121c-4056-ad92-4b3b4ac08c76",
   "metadata": {},
   "outputs": [
    {
     "data": {
      "text/plain": [
       "str"
      ]
     },
     "execution_count": 25,
     "metadata": {},
     "output_type": "execute_result"
    }
   ],
   "source": [
    "type(a)"
   ]
  },
  {
   "cell_type": "code",
   "execution_count": 26,
   "id": "0a036e27-f737-4a49-84d7-bc3c14d8c400",
   "metadata": {},
   "outputs": [],
   "source": [
    "# Mathematical Operation with varaibles  Assisment\n",
    "\n",
    "a = 10 \n",
    "b = 20"
   ]
  },
  {
   "cell_type": "code",
   "execution_count": 27,
   "id": "a7924014-9a1f-4fd6-953e-ee4684cfd5c8",
   "metadata": {},
   "outputs": [
    {
     "name": "stdout",
     "output_type": "stream",
     "text": [
      "30\n",
      "0.5\n",
      "10\n",
      "200.5\n"
     ]
    }
   ],
   "source": [
    "print(a + b)\n",
    "print(a / b)\n",
    "print(a % b)\n",
    "print((a * b) + (a / b))# BODAMS"
   ]
  },
  {
   "cell_type": "code",
   "execution_count": 28,
   "id": "e2f058b9-2a5c-47b6-95b9-f7e56c8d61f1",
   "metadata": {},
   "outputs": [
    {
     "name": "stdout",
     "output_type": "stream",
     "text": [
      "Hello\n"
     ]
    }
   ],
   "source": [
    "# varaible way to printing\n",
    "\n",
    "print(\"Hello\")"
   ]
  },
  {
   "cell_type": "code",
   "execution_count": 30,
   "id": "6fb24ac7-1b55-42b7-8939-e08104bf5e2f",
   "metadata": {},
   "outputs": [],
   "source": [
    "first_name = \"RaviKumar\"\n",
    "Last_name = \"Varadharajan\""
   ]
  },
  {
   "cell_type": "code",
   "execution_count": 32,
   "id": "01981bab-b5da-4ac6-9817-346e4f2aceb8",
   "metadata": {},
   "outputs": [
    {
     "name": "stdout",
     "output_type": "stream",
     "text": [
      "My frist name is RaviKumar and last name is Varadharajan\n"
     ]
    }
   ],
   "source": [
    "print(\"My frist name is {} and last name is {}\".format(first_name, Last_name))"
   ]
  },
  {
   "cell_type": "code",
   "execution_count": 33,
   "id": "ce7ae45f-a641-4155-879b-a4da2616e6db",
   "metadata": {},
   "outputs": [
    {
     "name": "stdout",
     "output_type": "stream",
     "text": [
      "My first name is RaviKumar and last name is Varadharajan\n"
     ]
    }
   ],
   "source": [
    "print(\"My first name is {first} and last name is {last}\".format(first = first_name, last = Last_name))"
   ]
  },
  {
   "cell_type": "code",
   "execution_count": 34,
   "id": "e68e55e3-1cfa-4c42-aad9-2b73662d4bc7",
   "metadata": {},
   "outputs": [
    {
     "data": {
      "text/plain": [
       "7"
      ]
     },
     "execution_count": 34,
     "metadata": {},
     "output_type": "execute_result"
    }
   ],
   "source": [
    "# python function\n",
    "len(\"RaviRaj\")"
   ]
  },
  {
   "cell_type": "code",
   "execution_count": 35,
   "id": "04c2d44c-de7e-43cd-aba6-b3573aeca653",
   "metadata": {},
   "outputs": [
    {
     "data": {
      "text/plain": [
       "list"
      ]
     },
     "execution_count": 35,
     "metadata": {},
     "output_type": "execute_result"
    }
   ],
   "source": [
    "type(['1',2,3,4])"
   ]
  },
  {
   "cell_type": "code",
   "execution_count": null,
   "id": "acaeeb77-af1c-4c64-bc41-8ec4168abc50",
   "metadata": {},
   "outputs": [],
   "source": []
  }
 ],
 "metadata": {
  "kernelspec": {
   "display_name": "Python 3 (ipykernel)",
   "language": "python",
   "name": "python3"
  },
  "language_info": {
   "codemirror_mode": {
    "name": "ipython",
    "version": 3
   },
   "file_extension": ".py",
   "mimetype": "text/x-python",
   "name": "python",
   "nbconvert_exporter": "python",
   "pygments_lexer": "ipython3",
   "version": "3.12.8"
  }
 },
 "nbformat": 4,
 "nbformat_minor": 5
}

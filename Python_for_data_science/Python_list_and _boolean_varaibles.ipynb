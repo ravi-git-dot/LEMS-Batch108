{
 "cells": [
  {
   "cell_type": "markdown",
   "id": "37c43e48-f248-464c-9930-c6208d625135",
   "metadata": {},
   "source": [
    "# Boolean Varaibles\n",
    "- Boolean varaible are the two constant object False and True\n",
    "- In numeric context (fro example, when used as the argument to an arthimatic operation),they behave like the interger o and 1 respectively\n",
    "- The bulit-in function bool() can be used to cast any value to a Boolean, If the value can be interpreted as a truth value\n",
    "- They are written as False and True "
   ]
  },
  {
   "cell_type": "code",
   "execution_count": 1,
   "id": "04de621e-2947-4e39-8ae4-1ad7a7e94640",
   "metadata": {},
   "outputs": [
    {
     "name": "stdout",
     "output_type": "stream",
     "text": [
      "True False\n"
     ]
    }
   ],
   "source": [
    "print(True, False)"
   ]
  },
  {
   "cell_type": "code",
   "execution_count": 3,
   "id": "d2320b50-8271-4d51-b9db-54df5e577f4d",
   "metadata": {},
   "outputs": [
    {
     "data": {
      "text/plain": [
       "bool"
      ]
     },
     "execution_count": 3,
     "metadata": {},
     "output_type": "execute_result"
    }
   ],
   "source": [
    "type(True)"
   ]
  },
  {
   "cell_type": "code",
   "execution_count": 4,
   "id": "e3fbd3cf-3025-40e6-8b67-14fb344f25a3",
   "metadata": {},
   "outputs": [
    {
     "data": {
      "text/plain": [
       "bool"
      ]
     },
     "execution_count": 4,
     "metadata": {},
     "output_type": "execute_result"
    }
   ],
   "source": [
    "type(False)"
   ]
  },
  {
   "cell_type": "code",
   "execution_count": 5,
   "id": "4e85c73a-ec7f-4d74-bbb4-6f8da33dd8c6",
   "metadata": {},
   "outputs": [],
   "source": [
    "my_str = \"RaviRaj@7639\""
   ]
  },
  {
   "cell_type": "code",
   "execution_count": 6,
   "id": "9b7593c4-5046-4ed6-bb97-d7e1a57f34f2",
   "metadata": {},
   "outputs": [
    {
     "name": "stdout",
     "output_type": "stream",
     "text": [
      "True\n",
      "True\n",
      "False\n",
      "False\n",
      "False\n",
      "False\n",
      "False\n",
      "False\n",
      "True\n"
     ]
    }
   ],
   "source": [
    "print(my_str.isalnum()) # check if all char are numbers\n",
    "print(my_str.isalpha())# check if all characters in the  str are Alphabetical\n",
    "print(my_str.isdigit()) # check if string contain digit \n",
    "print(my_str.istitle()) # check if string contain Title Word\n",
    "print(my_str.isupper()) # check if string contain Upper case\n",
    "print(my_str.islower()) # check if string contain Lower case\n",
    "print(my_str.isspace()) # chech if the string contain space\n",
    "print(my_str.endswith(\"R\")) # check if the string start with letter 'R'\n",
    "print(my_str.startswith(\"R\")) # check if the string end with letter 'R'"
   ]
  },
  {
   "cell_type": "markdown",
   "id": "53195ad2-d7a4-4f78-b4ba-b9edd9141758",
   "metadata": {},
   "source": [
    "# Boolean and Logistic Operation"
   ]
  },
  {
   "cell_type": "code",
   "execution_count": 7,
   "id": "c564fc3e-ef7f-4659-9f80-86877a3848b1",
   "metadata": {},
   "outputs": [
    {
     "data": {
      "text/plain": [
       "False"
      ]
     },
     "execution_count": 7,
     "metadata": {},
     "output_type": "execute_result"
    }
   ],
   "source": [
    "True and False"
   ]
  },
  {
   "cell_type": "code",
   "execution_count": 8,
   "id": "c40686a1-7825-4df3-a725-800ffe77d820",
   "metadata": {},
   "outputs": [
    {
     "data": {
      "text/plain": [
       "True"
      ]
     },
     "execution_count": 8,
     "metadata": {},
     "output_type": "execute_result"
    }
   ],
   "source": [
    "True or False"
   ]
  },
  {
   "cell_type": "code",
   "execution_count": 9,
   "id": "e55dac9f-641e-4b1f-9d47-105e15a5317c",
   "metadata": {},
   "outputs": [
    {
     "data": {
      "text/plain": [
       "True"
      ]
     },
     "execution_count": 9,
     "metadata": {},
     "output_type": "execute_result"
    }
   ],
   "source": [
    "True or False"
   ]
  },
  {
   "cell_type": "code",
   "execution_count": 10,
   "id": "73664f87-69c6-4d87-aa2e-cb4f482d224f",
   "metadata": {},
   "outputs": [
    {
     "data": {
      "text/plain": [
       "True"
      ]
     },
     "execution_count": 10,
     "metadata": {},
     "output_type": "execute_result"
    }
   ],
   "source": [
    "True or True"
   ]
  },
  {
   "cell_type": "code",
   "execution_count": 14,
   "id": "0b9abdda-4e58-4481-bffe-50c3d1b2e7fa",
   "metadata": {},
   "outputs": [],
   "source": [
    "str_example = \"Ravi Raj\"\n",
    "my_str = \"HelloWorld\""
   ]
  },
  {
   "cell_type": "code",
   "execution_count": 15,
   "id": "1c1ea0b7-6379-478f-a743-43001a6590d6",
   "metadata": {},
   "outputs": [
    {
     "data": {
      "text/plain": [
       "True"
      ]
     },
     "execution_count": 15,
     "metadata": {},
     "output_type": "execute_result"
    }
   ],
   "source": [
    "my_str.isalpha() or my_str.isalnum()"
   ]
  },
  {
   "cell_type": "markdown",
   "id": "20d06924-57fa-4d34-a831-bf756cd50cfc",
   "metadata": {},
   "source": [
    "# List "
   ]
  },
  {
   "cell_type": "markdown",
   "id": "c7b8e625-13a1-4c6a-b590-091a7e857419",
   "metadata": {},
   "source": [
    "- In Python, a list is a built-in data structure used to store an ordered collection of items. These items can be of any data type, and a list can \n",
    "contain a mix of types (e.g., integers, strings, other lists, etc.).\n",
    " \n",
    "-Key Features of Lists:\n",
    "- Ordered: The items have a defined order and that order will not change unless you explicitly change it."
   ]
  },
  {
   "cell_type": "markdown",
   "id": "f2d024c0-e673-4ab3-876b-97974fefe057",
   "metadata": {},
   "source": [
    " - Mutable: You can change, add, or remove elements after the list is created."
   ]
  },
  {
   "cell_type": "markdown",
   "id": "6550851f-2b34-4963-b6e9-b97321effa3d",
   "metadata": {},
   "source": [
    "- Allows duplicates: Lists can contain duplicate values."
   ]
  },
  {
   "cell_type": "markdown",
   "id": "0bb2d5d7-556c-4559-9d63-c6da47ac9de3",
   "metadata": {},
   "source": [
    "- Indexed: You can access items using an index (starting from 0)."
   ]
  },
  {
   "cell_type": "code",
   "execution_count": 17,
   "id": "8e156953-1ddd-487c-90d9-d5a8316536b2",
   "metadata": {},
   "outputs": [
    {
     "data": {
      "text/plain": [
       "list"
      ]
     },
     "execution_count": 17,
     "metadata": {},
     "output_type": "execute_result"
    }
   ],
   "source": [
    "type([])"
   ]
  },
  {
   "cell_type": "code",
   "execution_count": 18,
   "id": "b2b9aa46-d462-4d7b-89fc-87b649fd328a",
   "metadata": {},
   "outputs": [],
   "source": [
    "list_example = []"
   ]
  },
  {
   "cell_type": "code",
   "execution_count": 19,
   "id": "b6327c39-385a-4ce4-9895-cf2d668d1856",
   "metadata": {},
   "outputs": [
    {
     "data": {
      "text/plain": [
       "list"
      ]
     },
     "execution_count": 19,
     "metadata": {},
     "output_type": "execute_result"
    }
   ],
   "source": [
    "type(list_example)"
   ]
  },
  {
   "cell_type": "code",
   "execution_count": 20,
   "id": "14c5d4a4-7d9e-466d-9cf5-84017b55945f",
   "metadata": {},
   "outputs": [],
   "source": [
    "list = list()"
   ]
  },
  {
   "cell_type": "code",
   "execution_count": 21,
   "id": "3ce246cf-9ace-4e12-afff-3d3439c5d543",
   "metadata": {},
   "outputs": [
    {
     "data": {
      "text/plain": [
       "list"
      ]
     },
     "execution_count": 21,
     "metadata": {},
     "output_type": "execute_result"
    }
   ],
   "source": [
    "type(list)"
   ]
  },
  {
   "cell_type": "code",
   "execution_count": 22,
   "id": "d2c35559-c905-480d-8e2d-acf00898ef88",
   "metadata": {},
   "outputs": [],
   "source": [
    "list = [\"Mathametic\", \"Chemistry\", \"Science\", 100,200,250, 1.5, 200, True]"
   ]
  },
  {
   "cell_type": "code",
   "execution_count": 23,
   "id": "774db55c-792d-4fdc-bbb4-2d6c0652f684",
   "metadata": {},
   "outputs": [
    {
     "data": {
      "text/plain": [
       "9"
      ]
     },
     "execution_count": 23,
     "metadata": {},
     "output_type": "execute_result"
    }
   ],
   "source": [
    "len(list)"
   ]
  },
  {
   "cell_type": "code",
   "execution_count": 24,
   "id": "37f49d2e-391b-443f-b223-925017f0710e",
   "metadata": {},
   "outputs": [
    {
     "data": {
      "text/plain": [
       "list"
      ]
     },
     "execution_count": 24,
     "metadata": {},
     "output_type": "execute_result"
    }
   ],
   "source": [
    "type(list)"
   ]
  },
  {
   "cell_type": "markdown",
   "id": "f5d50a3f-3f80-43c7-95f4-85e05a1ae579",
   "metadata": {},
   "source": [
    "# Append"
   ]
  },
  {
   "cell_type": "code",
   "execution_count": 25,
   "id": "c0210638-da12-4469-a763-6843f491b829",
   "metadata": {},
   "outputs": [],
   "source": [
    "# append is used to add elements in the list\n",
    "list.append(\"Ravi\")"
   ]
  },
  {
   "cell_type": "code",
   "execution_count": 26,
   "id": "9018c6c9-8078-4b73-9392-0511a7cef4f1",
   "metadata": {},
   "outputs": [
    {
     "data": {
      "text/plain": [
       "['Mathametic', 'Chemistry', 'Science', 100, 200, 250, 1.5, 200, True, 'Ravi']"
      ]
     },
     "execution_count": 26,
     "metadata": {},
     "output_type": "execute_result"
    }
   ],
   "source": [
    "list"
   ]
  },
  {
   "cell_type": "markdown",
   "id": "b0703704-abb7-44e4-904f-155a410d6aa4",
   "metadata": {},
   "source": [
    " # index"
   ]
  },
  {
   "cell_type": "code",
   "execution_count": 27,
   "id": "01598d7d-350c-439a-9c0e-8575b7c04a12",
   "metadata": {},
   "outputs": [
    {
     "data": {
      "text/plain": [
       "'Science'"
      ]
     },
     "execution_count": 27,
     "metadata": {},
     "output_type": "execute_result"
    }
   ],
   "source": [
    "list[2]"
   ]
  },
  {
   "cell_type": "code",
   "execution_count": 28,
   "id": "ff375439-fe2e-4047-8aff-ce2c4cd001d9",
   "metadata": {},
   "outputs": [
    {
     "data": {
      "text/plain": [
       "1.5"
      ]
     },
     "execution_count": 28,
     "metadata": {},
     "output_type": "execute_result"
    }
   ],
   "source": [
    "list[6]"
   ]
  },
  {
   "cell_type": "code",
   "execution_count": 31,
   "id": "4192d865-9b06-42f3-8ed2-8a6de6332c7d",
   "metadata": {},
   "outputs": [],
   "source": [
    "# insert in a specfic order\n",
    "list.insert(1, \"Python\")"
   ]
  },
  {
   "cell_type": "code",
   "execution_count": 32,
   "id": "d11b9db6-4f0d-443b-8707-fbaf94d9d181",
   "metadata": {},
   "outputs": [
    {
     "data": {
      "text/plain": [
       "['Mathametic',\n",
       " 'Python',\n",
       " 'Chemistry',\n",
       " 'Science',\n",
       " 100,\n",
       " 200,\n",
       " 250,\n",
       " 1.5,\n",
       " 200,\n",
       " True,\n",
       " 'Ravi']"
      ]
     },
     "execution_count": 32,
     "metadata": {},
     "output_type": "execute_result"
    }
   ],
   "source": [
    "list"
   ]
  },
  {
   "cell_type": "code",
   "execution_count": 33,
   "id": "6feb675d-8765-422d-abb7-066ef1ef620c",
   "metadata": {},
   "outputs": [
    {
     "data": {
      "text/plain": [
       "['Python', 'Chemistry', 'Science']"
      ]
     },
     "execution_count": 33,
     "metadata": {},
     "output_type": "execute_result"
    }
   ],
   "source": [
    "list[1:4]"
   ]
  },
  {
   "cell_type": "code",
   "execution_count": 34,
   "id": "a2c28095-e4f5-4619-be0b-a71337171316",
   "metadata": {},
   "outputs": [
    {
     "name": "stdout",
     "output_type": "stream",
     "text": [
      "[2, 4, 6]\n"
     ]
    }
   ],
   "source": [
    "numbers = [1, 2, 3, 4, 5, 6]\n",
    "even_numbers = []\n",
    "for num in numbers:\n",
    "    if num % 2 == 0:\n",
    "        even_numbers.append(num)\n",
    "print(even_numbers)\n"
   ]
  },
  {
   "cell_type": "code",
   "execution_count": 37,
   "id": "e69dfb1f-41b7-40fc-b965-2e68b7a0b6cc",
   "metadata": {},
   "outputs": [
    {
     "name": "stdin",
     "output_type": "stream",
     "text": [
      "Enter the number: 34\n",
      "Enter the number: 45\n",
      "Enter the number: 26\n",
      "Enter the number: 12\n",
      "Enter the number: 10\n",
      "Enter the number: 6\n"
     ]
    },
    {
     "name": "stdout",
     "output_type": "stream",
     "text": [
      "[34, 45, 26, 12, 10, 6]\n"
     ]
    }
   ],
   "source": [
    "list = []\n",
    "for i in range(6):\n",
    "    num = eval(input(\"Enter the number:\"))\n",
    "    list.append(num)\n",
    "print(list)\n"
   ]
  },
  {
   "cell_type": "markdown",
   "id": "9391df68-7630-4b97-a61a-fb25439aa745",
   "metadata": {},
   "source": [
    "# Extend Method"
   ]
  },
  {
   "cell_type": "code",
   "execution_count": 38,
   "id": "04d316cd-4b06-4cc6-8d38-54d4dfc8577e",
   "metadata": {},
   "outputs": [],
   "source": [
    "lst = [1,2,3,4,5,6,7,8,9]"
   ]
  },
  {
   "cell_type": "code",
   "execution_count": 39,
   "id": "a5a2e210-d4c1-403f-8e96-17fc2537c331",
   "metadata": {},
   "outputs": [],
   "source": [
    "lst.extend([2.4,34])"
   ]
  },
  {
   "cell_type": "code",
   "execution_count": 40,
   "id": "72b7542a-9365-4c13-902e-f48eabbd4df6",
   "metadata": {},
   "outputs": [
    {
     "data": {
      "text/plain": [
       "[1, 2, 3, 4, 5, 6, 7, 8, 9, 2.4, 34]"
      ]
     },
     "execution_count": 40,
     "metadata": {},
     "output_type": "execute_result"
    }
   ],
   "source": [
    "lst"
   ]
  },
  {
   "cell_type": "markdown",
   "id": "da5e9eb2-ea03-4260-9da8-50e1f6309327",
   "metadata": {},
   "source": [
    "# Pop Method"
   ]
  },
  {
   "cell_type": "code",
   "execution_count": 41,
   "id": "850237b0-fd17-43f2-80b5-6499e5e283aa",
   "metadata": {},
   "outputs": [
    {
     "data": {
      "text/plain": [
       "34"
      ]
     },
     "execution_count": 41,
     "metadata": {},
     "output_type": "execute_result"
    }
   ],
   "source": [
    "lst.pop() # is take out any one number out"
   ]
  },
  {
   "cell_type": "code",
   "execution_count": 42,
   "id": "497fab42-d70b-43bb-8201-d36a0b9c55c4",
   "metadata": {},
   "outputs": [
    {
     "data": {
      "text/plain": [
       "2"
      ]
     },
     "execution_count": 42,
     "metadata": {},
     "output_type": "execute_result"
    }
   ],
   "source": [
    "lst.pop(1)"
   ]
  },
  {
   "cell_type": "code",
   "execution_count": 43,
   "id": "b24c8383-2e56-4b02-88f1-09a834a2cf42",
   "metadata": {},
   "outputs": [
    {
     "data": {
      "text/plain": [
       "[1, 3, 4, 5, 6, 7, 8, 9, 2.4]"
      ]
     },
     "execution_count": 43,
     "metadata": {},
     "output_type": "execute_result"
    }
   ],
   "source": [
    "lst"
   ]
  },
  {
   "cell_type": "markdown",
   "id": "fa1f0687-a16a-454b-a141-ccc0f09e03e2",
   "metadata": {},
   "source": [
    "# Count : Calculate the total count of given element in list"
   ]
  },
  {
   "cell_type": "code",
   "execution_count": 44,
   "id": "7336d236-3f7b-477a-b26c-e5d741cdb54a",
   "metadata": {},
   "outputs": [],
   "source": [
    "lst = [1,2,3,4,5,6,2]"
   ]
  },
  {
   "cell_type": "code",
   "execution_count": 45,
   "id": "28e5f40f-ee57-4fdc-9ea4-4fca0b8091c3",
   "metadata": {},
   "outputs": [
    {
     "data": {
      "text/plain": [
       "2"
      ]
     },
     "execution_count": 45,
     "metadata": {},
     "output_type": "execute_result"
    }
   ],
   "source": [
    "lst.count(2)"
   ]
  },
  {
   "cell_type": "code",
   "execution_count": 46,
   "id": "4394c426-d98c-4660-8ce6-3e66554c910c",
   "metadata": {},
   "outputs": [
    {
     "data": {
      "text/plain": [
       "1"
      ]
     },
     "execution_count": 46,
     "metadata": {},
     "output_type": "execute_result"
    }
   ],
   "source": [
    "lst.count(1)"
   ]
  },
  {
   "cell_type": "code",
   "execution_count": 47,
   "id": "bd40395f-e6fe-47c1-a74b-2d48f5424cc9",
   "metadata": {},
   "outputs": [
    {
     "data": {
      "text/plain": [
       "0"
      ]
     },
     "execution_count": 47,
     "metadata": {},
     "output_type": "execute_result"
    }
   ],
   "source": [
    "# index() Return the index of first occurrence \n",
    "lst.index(1, 0, 4)"
   ]
  },
  {
   "cell_type": "code",
   "execution_count": 49,
   "id": "1e01dcad-a0e0-4cc2-b374-1125fefe6b6d",
   "metadata": {},
   "outputs": [
    {
     "data": {
      "text/plain": [
       "0"
      ]
     },
     "execution_count": 49,
     "metadata": {},
     "output_type": "execute_result"
    }
   ],
   "source": [
    "lst.index(1)"
   ]
  },
  {
   "cell_type": "code",
   "execution_count": 53,
   "id": "f45602cc-a3b0-4339-84da-9808ea3a98cb",
   "metadata": {},
   "outputs": [
    {
     "ename": "ValueError",
     "evalue": "2 is not in list",
     "output_type": "error",
     "traceback": [
      "\u001b[1;31m---------------------------------------------------------------------------\u001b[0m",
      "\u001b[1;31mValueError\u001b[0m                                Traceback (most recent call last)",
      "Cell \u001b[1;32mIn[53], line 1\u001b[0m\n\u001b[1;32m----> 1\u001b[0m \u001b[43mlst\u001b[49m\u001b[38;5;241;43m.\u001b[39;49m\u001b[43mindex\u001b[49m\u001b[43m(\u001b[49m\u001b[38;5;241;43m2\u001b[39;49m\u001b[43m,\u001b[49m\u001b[43m \u001b[49m\u001b[38;5;241;43m3\u001b[39;49m\u001b[43m,\u001b[49m\u001b[43m \u001b[49m\u001b[38;5;241;43m4\u001b[39;49m\u001b[43m)\u001b[49m\n",
      "\u001b[1;31mValueError\u001b[0m: 2 is not in list"
     ]
    }
   ],
   "source": [
    "lst.index(2, 3, 4) #.index(value, start, end)"
   ]
  },
  {
   "cell_type": "code",
   "execution_count": 48,
   "id": "36547e26-3c6d-4d49-92f1-55a000d93d80",
   "metadata": {},
   "outputs": [
    {
     "data": {
      "text/plain": [
       "1"
      ]
     },
     "execution_count": 48,
     "metadata": {},
     "output_type": "execute_result"
    }
   ],
   "source": [
    "# min() and max()\n",
    "min(lst)"
   ]
  },
  {
   "cell_type": "code",
   "execution_count": 54,
   "id": "ff9cb238-34b6-463e-8331-d8e250ad1a6d",
   "metadata": {},
   "outputs": [
    {
     "data": {
      "text/plain": [
       "6"
      ]
     },
     "execution_count": 54,
     "metadata": {},
     "output_type": "execute_result"
    }
   ],
   "source": [
    "max(lst)"
   ]
  },
  {
   "cell_type": "code",
   "execution_count": null,
   "id": "315bc476-3f6e-4407-a3f5-1d99d119d18f",
   "metadata": {},
   "outputs": [],
   "source": []
  }
 ],
 "metadata": {
  "kernelspec": {
   "display_name": "Python 3 (ipykernel)",
   "language": "python",
   "name": "python3"
  },
  "language_info": {
   "codemirror_mode": {
    "name": "ipython",
    "version": 3
   },
   "file_extension": ".py",
   "mimetype": "text/x-python",
   "name": "python",
   "nbconvert_exporter": "python",
   "pygments_lexer": "ipython3",
   "version": "3.12.8"
  }
 },
 "nbformat": 4,
 "nbformat_minor": 5
}
